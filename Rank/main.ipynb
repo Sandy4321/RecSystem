{
 "cells": [
  {
   "cell_type": "code",
   "execution_count": 24,
   "metadata": {},
   "outputs": [],
   "source": [
    "import pandas as pd\n",
    "import tensorflow as tf\n",
    "import datetime\n",
    "import gc\n",
    "\n",
    "from sklearn.preprocessing import LabelEncoder, StandardScaler\n",
    "from sklearn.metrics import log_loss, roc_auc_score\n",
    "\n",
    "%run ./model/deepfm.ipynb\n",
    "%run ./model/dcn.ipynb\n",
    "%run ./model/mlr.ipynb\n",
    "%run ./model/layers.ipynb"
   ]
  },
  {
   "cell_type": "code",
   "execution_count": 2,
   "metadata": {},
   "outputs": [],
   "source": [
    "data = pd.read_csv('./data/sample.csv')\n",
    "\n",
    "NUMERIC_COLS = ['I' + str(i) for i in range(1, 14)]\n",
    "SPARSE_COLS = ['C' + str(i) for i in range(1, 27)]\n",
    "\n",
    "data[NUMERIC_COLS] = data[NUMERIC_COLS].fillna(0)\n",
    "data[SPARSE_COLS] = data[SPARSE_COLS].fillna('-1')\n",
    "\n",
    "ss = StandardScaler()\n",
    "data[NUMERIC_COLS] = ss.fit_transform(data[NUMERIC_COLS])\n",
    "\n",
    "feat_dict = {}\n",
    "feat_num = 0\n",
    "\n",
    "sparse_index = data[SPARSE_COLS].copy()\n",
    "dense_value = data[NUMERIC_COLS]\n",
    "label = data['label'].values\n",
    "\n",
    "for col in SPARSE_COLS:\n",
    "    unique_val = data[col].unique()\n",
    "    feat_dict[col] = dict(zip(unique_val, range(feat_num, len(unique_val)+feat_num)))\n",
    "    feat_num += len(unique_val)\n",
    "    sparse_index[col] = data[col].map(feat_dict[col])"
   ]
  },
  {
   "cell_type": "code",
   "execution_count": 26,
   "metadata": {},
   "outputs": [
    {
     "name": "stdout",
     "output_type": "stream",
     "text": [
      "WARNING:tensorflow:Falling back from v2 loop because of error: Failed to find data adapter that can handle input: (<class 'list'> containing values of types {\"<class 'pandas.core.frame.DataFrame'>\"}), <class 'NoneType'>\n"
     ]
    },
    {
     "name": "stderr",
     "output_type": "stream",
     "text": [
      "WARNING:tensorflow:Falling back from v2 loop because of error: Failed to find data adapter that can handle input: (<class 'list'> containing values of types {\"<class 'pandas.core.frame.DataFrame'>\"}), <class 'NoneType'>\n"
     ]
    },
    {
     "name": "stdout",
     "output_type": "stream",
     "text": [
      "Train on 96000 samples, validate on 24000 samples\n",
      "96000/96000 - 123s - loss: 0.4754 - binary_crossentropy: 0.4754 - val_loss: 0.4600 - val_binary_crossentropy: 0.4600\n"
     ]
    }
   ],
   "source": [
    "deepfm = MLR(len(SPARSE_COLS), feat_num, len(NUMERIC_COLS), 4)\n",
    "deepfm.compile(\"adam\", \"binary_crossentropy\", metrics=['binary_crossentropy'])\n",
    "#deepfm.compile(\"adagrad\", \"binary_crossentropy\", metrics=['binary_crossentropy'])\n",
    "\n",
    "# log_dir = \"/Users/zhanshanjun/jupyter-workspace/Recsys/Rank/logs/\" + datetime.datetime.now().strftime(\"%Y%m%d-%H%M%S\")\n",
    "# tensorboard_callback = tf.keras.callbacks.TensorBoard(log_dir=log_dir, histogram_freq=1)\n",
    "\n",
    "history = deepfm.fit(x = [sparse_index, dense_value],\n",
    "                     y = label, \n",
    "                     batch_size=32,\n",
    "                     epochs=1, \n",
    "                     verbose=2, \n",
    "                     validation_split=0.2,\n",
    "#                      callbacks=[tensorboard_callback]\n",
    "                    )"
   ]
  },
  {
   "cell_type": "code",
   "execution_count": null,
   "metadata": {},
   "outputs": [],
   "source": [
    "# fm   96000/96000 - 30s - loss: 0.4715 - binary_crossentropy: 0.4715 - val_loss: 0.4689 - val_binary_crossentropy: 0.4689\n",
    "\n",
    "#ffm   96000/96000 - 2529s - loss: 0.4626 - binary_crossentropy: 0.4626 - val_loss: 0.4634 - val_binary_crossentropy: 0.4634\n",
    "\n",
    "# dnn  96000/96000 - 33s - loss: 0.4605 - binary_crossentropy: 0.4605 - val_loss: 0.4538 - val_binary_crossentropy: 0.4538\n",
    "\n",
    "# wdl    96000/96000 - 33s - loss: 0.4610 - binary_crossentropy: 0.4610 - val_loss: 0.4552 - val_binary_crossentropy: 0.4552\n",
    "\n",
    "# deepfm   96000/96000 - 34s - loss: 0.4602 - binary_crossentropy: 0.4602 - val_loss: 0.4539 - val_binary_crossentropy: 0.4539\n",
    "\n",
    "96000/96000 - 35s - loss: 0.4688 - binary_crossentropy: 0.4688 - val_loss: 0.4615 - val_binary_crossentropy: 0.4615\n",
    "96000/96000 - 74s - loss: 0.4733 - binary_crossentropy: 0.4733 - val_loss: 0.4586 - val_binary_crossentropy: 0.4586\n"
   ]
  }
 ],
 "metadata": {
  "kernelspec": {
   "display_name": "Python 3",
   "language": "python",
   "name": "python3"
  },
  "language_info": {
   "codemirror_mode": {
    "name": "ipython",
    "version": 3
   },
   "file_extension": ".py",
   "mimetype": "text/x-python",
   "name": "python",
   "nbconvert_exporter": "python",
   "pygments_lexer": "ipython3",
   "version": "3.7.4"
  }
 },
 "nbformat": 4,
 "nbformat_minor": 2
}
