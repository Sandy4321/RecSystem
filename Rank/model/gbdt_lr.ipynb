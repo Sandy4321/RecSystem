{
 "cells": [
  {
   "cell_type": "code",
   "execution_count": 1,
   "metadata": {},
   "outputs": [],
   "source": [
    "import numpy as np\n",
    "import pandas as pd\n",
    "import lightgbm as lgb\n",
    "from sklearn.linear_model import LogisticRegression\n",
    "from sklearn.preprocessing import OneHotEncoder\n",
    "from sklearn.metrics import roc_auc_score, log_loss"
   ]
  },
  {
   "cell_type": "code",
   "execution_count": 2,
   "metadata": {},
   "outputs": [],
   "source": [
    "data = pd.read_csv('../data/sample.csv')[:20000]\n",
    "\n",
    "NUMERIC_COLS = ['I' + str(i) for i in range(1, 14)]\n",
    "SPARSE_COLS = ['C' + str(i) for i in range(1, 27)]\n",
    "\n",
    "data[NUMERIC_COLS] = data[NUMERIC_COLS].fillna(0)\n",
    "data[SPARSE_COLS] = data[SPARSE_COLS].fillna('-1')\n",
    "\n",
    "sparse_index = data[SPARSE_COLS]\n",
    "dense_value = data[NUMERIC_COLS]\n",
    "label = data['label'].values"
   ]
  },
  {
   "cell_type": "code",
   "execution_count": 3,
   "metadata": {},
   "outputs": [],
   "source": [
    "ohe = OneHotEncoder()\n",
    "sparse_onehot = ohe.fit_transform(sparse_index).toarray()\n",
    "\n",
    "lr_input1 = np.concatenate((sparse_onehot, dense_value.values), axis=1)"
   ]
  },
  {
   "cell_type": "code",
   "execution_count": 4,
   "metadata": {
    "collapsed": true
   },
   "outputs": [
    {
     "name": "stderr",
     "output_type": "stream",
     "text": [
      "/opt/anaconda3/lib/python3.7/site-packages/lightgbm/engine.py:148: UserWarning: Found `num_trees` in params. Will use it instead of argument\n",
      "  warnings.warn(\"Found `{}` in params. Will use it instead of argument\".format(alias))\n"
     ]
    },
    {
     "name": "stdout",
     "output_type": "stream",
     "text": [
      "[1]\tvalid_0's binary_logloss: 0.531359\n",
      "[2]\tvalid_0's binary_logloss: 0.530244\n",
      "[3]\tvalid_0's binary_logloss: 0.529175\n",
      "[4]\tvalid_0's binary_logloss: 0.52815\n",
      "[5]\tvalid_0's binary_logloss: 0.52715\n",
      "[6]\tvalid_0's binary_logloss: 0.52617\n",
      "[7]\tvalid_0's binary_logloss: 0.525168\n",
      "[8]\tvalid_0's binary_logloss: 0.524278\n",
      "[9]\tvalid_0's binary_logloss: 0.523323\n",
      "[10]\tvalid_0's binary_logloss: 0.522426\n",
      "[11]\tvalid_0's binary_logloss: 0.521587\n",
      "[12]\tvalid_0's binary_logloss: 0.52071\n",
      "[13]\tvalid_0's binary_logloss: 0.519857\n",
      "[14]\tvalid_0's binary_logloss: 0.519042\n",
      "[15]\tvalid_0's binary_logloss: 0.518301\n",
      "[16]\tvalid_0's binary_logloss: 0.517454\n",
      "[17]\tvalid_0's binary_logloss: 0.516689\n",
      "[18]\tvalid_0's binary_logloss: 0.51598\n",
      "[19]\tvalid_0's binary_logloss: 0.515206\n",
      "[20]\tvalid_0's binary_logloss: 0.514447\n",
      "[21]\tvalid_0's binary_logloss: 0.513706\n",
      "[22]\tvalid_0's binary_logloss: 0.513076\n",
      "[23]\tvalid_0's binary_logloss: 0.512378\n",
      "[24]\tvalid_0's binary_logloss: 0.51174\n",
      "[25]\tvalid_0's binary_logloss: 0.511026\n",
      "[26]\tvalid_0's binary_logloss: 0.510312\n",
      "[27]\tvalid_0's binary_logloss: 0.509687\n",
      "[28]\tvalid_0's binary_logloss: 0.509093\n",
      "[29]\tvalid_0's binary_logloss: 0.50845\n",
      "[30]\tvalid_0's binary_logloss: 0.507855\n",
      "[31]\tvalid_0's binary_logloss: 0.507231\n",
      "[32]\tvalid_0's binary_logloss: 0.506603\n",
      "[33]\tvalid_0's binary_logloss: 0.505959\n",
      "[34]\tvalid_0's binary_logloss: 0.505335\n",
      "[35]\tvalid_0's binary_logloss: 0.50481\n",
      "[36]\tvalid_0's binary_logloss: 0.504283\n",
      "[37]\tvalid_0's binary_logloss: 0.503709\n",
      "[38]\tvalid_0's binary_logloss: 0.503154\n",
      "[39]\tvalid_0's binary_logloss: 0.502642\n",
      "[40]\tvalid_0's binary_logloss: 0.502179\n",
      "[41]\tvalid_0's binary_logloss: 0.501682\n",
      "[42]\tvalid_0's binary_logloss: 0.501155\n",
      "[43]\tvalid_0's binary_logloss: 0.500655\n",
      "[44]\tvalid_0's binary_logloss: 0.500153\n",
      "[45]\tvalid_0's binary_logloss: 0.499675\n",
      "[46]\tvalid_0's binary_logloss: 0.499188\n",
      "[47]\tvalid_0's binary_logloss: 0.498684\n",
      "[48]\tvalid_0's binary_logloss: 0.498236\n",
      "[49]\tvalid_0's binary_logloss: 0.497804\n",
      "[50]\tvalid_0's binary_logloss: 0.497337\n",
      "[51]\tvalid_0's binary_logloss: 0.496898\n",
      "[52]\tvalid_0's binary_logloss: 0.496477\n",
      "[53]\tvalid_0's binary_logloss: 0.496089\n",
      "[54]\tvalid_0's binary_logloss: 0.495679\n",
      "[55]\tvalid_0's binary_logloss: 0.495289\n",
      "[56]\tvalid_0's binary_logloss: 0.494909\n",
      "[57]\tvalid_0's binary_logloss: 0.494507\n",
      "[58]\tvalid_0's binary_logloss: 0.494119\n",
      "[59]\tvalid_0's binary_logloss: 0.493723\n",
      "[60]\tvalid_0's binary_logloss: 0.493343\n",
      "[61]\tvalid_0's binary_logloss: 0.493\n",
      "[62]\tvalid_0's binary_logloss: 0.492661\n",
      "[63]\tvalid_0's binary_logloss: 0.492331\n",
      "[64]\tvalid_0's binary_logloss: 0.491983\n",
      "[65]\tvalid_0's binary_logloss: 0.49167\n",
      "[66]\tvalid_0's binary_logloss: 0.491369\n",
      "[67]\tvalid_0's binary_logloss: 0.491037\n",
      "[68]\tvalid_0's binary_logloss: 0.490739\n",
      "[69]\tvalid_0's binary_logloss: 0.490444\n",
      "[70]\tvalid_0's binary_logloss: 0.490182\n",
      "[71]\tvalid_0's binary_logloss: 0.489945\n",
      "[72]\tvalid_0's binary_logloss: 0.48965\n",
      "[73]\tvalid_0's binary_logloss: 0.489369\n",
      "[74]\tvalid_0's binary_logloss: 0.489103\n",
      "[75]\tvalid_0's binary_logloss: 0.488829\n",
      "[76]\tvalid_0's binary_logloss: 0.48861\n",
      "[77]\tvalid_0's binary_logloss: 0.488399\n",
      "[78]\tvalid_0's binary_logloss: 0.488165\n",
      "[79]\tvalid_0's binary_logloss: 0.487979\n",
      "[80]\tvalid_0's binary_logloss: 0.487765\n",
      "[81]\tvalid_0's binary_logloss: 0.487519\n",
      "[82]\tvalid_0's binary_logloss: 0.487324\n",
      "[83]\tvalid_0's binary_logloss: 0.487116\n",
      "[84]\tvalid_0's binary_logloss: 0.48694\n",
      "[85]\tvalid_0's binary_logloss: 0.486753\n",
      "[86]\tvalid_0's binary_logloss: 0.486564\n",
      "[87]\tvalid_0's binary_logloss: 0.48633\n",
      "[88]\tvalid_0's binary_logloss: 0.486149\n",
      "[89]\tvalid_0's binary_logloss: 0.48598\n",
      "[90]\tvalid_0's binary_logloss: 0.485813\n",
      "[91]\tvalid_0's binary_logloss: 0.485644\n",
      "[92]\tvalid_0's binary_logloss: 0.485475\n",
      "[93]\tvalid_0's binary_logloss: 0.485349\n",
      "[94]\tvalid_0's binary_logloss: 0.4852\n",
      "[95]\tvalid_0's binary_logloss: 0.485017\n",
      "[96]\tvalid_0's binary_logloss: 0.484875\n",
      "[97]\tvalid_0's binary_logloss: 0.484759\n",
      "[98]\tvalid_0's binary_logloss: 0.48462\n",
      "[99]\tvalid_0's binary_logloss: 0.484425\n",
      "[100]\tvalid_0's binary_logloss: 0.484253\n"
     ]
    }
   ],
   "source": [
    "lgb_train = lgb.Dataset(dense_value[:18000], label[:18000])\n",
    "lgb_val = lgb.Dataset(dense_value[18000:], label[18000:], reference=lgb_train)\n",
    "\n",
    "params\t=\t{\n",
    "\t\t\t\t'task':\t'train',\n",
    "\t\t\t\t'boosting_type':\t'gbdt',\n",
    "\t\t\t\t'objective':\t'binary',\n",
    "\t\t\t\t'metric':\t{'binary_logloss'},\n",
    "\t\t\t\t'num_leaves':\t64,\n",
    "\t\t\t\t'num_trees':\t100,\n",
    "\t\t\t\t'learning_rate':\t0.01,\n",
    "\t\t\t\t'feature_fraction':\t0.9,\n",
    "\t\t\t\t'bagging_fraction':\t0.8,\n",
    "\t\t\t\t'bagging_freq':\t5,\n",
    "\t\t\t\t'verbose':\t0\n",
    "}\n",
    "\n",
    "gbm = lgb.train(params, lgb_train, num_boost_round=100, valid_sets=lgb_val)\n",
    "pred = gbm.predict(dense_value, pred_leaf=True)\n",
    "\n",
    "dense_onehot = ohe.fit_transform(pred).toarray()\n",
    "lr_input2 = np.concatenate((sparse_onehot, dense_onehot), axis=1)"
   ]
  },
  {
   "cell_type": "code",
   "execution_count": 5,
   "metadata": {},
   "outputs": [
    {
     "name": "stderr",
     "output_type": "stream",
     "text": [
      "/opt/anaconda3/lib/python3.7/site-packages/sklearn/linear_model/logistic.py:432: FutureWarning: Default solver will be changed to 'lbfgs' in 0.22. Specify a solver to silence this warning.\n",
      "  FutureWarning)\n"
     ]
    },
    {
     "data": {
      "text/plain": [
       "(0.5158242616660852, 7.753963296631749)"
      ]
     },
     "execution_count": 5,
     "metadata": {},
     "output_type": "execute_result"
    }
   ],
   "source": [
    "lr = LogisticRegression()\n",
    "lr.fit(lr_input1[:18000], label[:18000])\n",
    "res1 = lr.predict(lr_input1[18000:])\n",
    "roc_auc_score(label[18000:], res1), log_loss(label[18000:], res1)"
   ]
  },
  {
   "cell_type": "code",
   "execution_count": 6,
   "metadata": {},
   "outputs": [
    {
     "name": "stderr",
     "output_type": "stream",
     "text": [
      "/opt/anaconda3/lib/python3.7/site-packages/sklearn/linear_model/logistic.py:432: FutureWarning: Default solver will be changed to 'lbfgs' in 0.22. Specify a solver to silence this warning.\n",
      "  FutureWarning)\n"
     ]
    },
    {
     "data": {
      "text/plain": [
       "(0.6084241936016566, 8.60023768086807)"
      ]
     },
     "execution_count": 6,
     "metadata": {},
     "output_type": "execute_result"
    }
   ],
   "source": [
    "lr = LogisticRegression()\n",
    "lr.fit(lr_input2[:18000], label[:18000])\n",
    "res2 = lr.predict(lr_input2[18000:])\n",
    "roc_auc_score(label[18000:], res2), log_loss(label[18000:], res2)"
   ]
  }
 ],
 "metadata": {
  "kernelspec": {
   "display_name": "Python 3",
   "language": "python",
   "name": "python3"
  },
  "language_info": {
   "codemirror_mode": {
    "name": "ipython",
    "version": 3
   },
   "file_extension": ".py",
   "mimetype": "text/x-python",
   "name": "python",
   "nbconvert_exporter": "python",
   "pygments_lexer": "ipython3",
   "version": "3.7.4"
  }
 },
 "nbformat": 4,
 "nbformat_minor": 2
}
