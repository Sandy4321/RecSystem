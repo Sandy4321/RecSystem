{
 "cells": [
  {
   "cell_type": "code",
   "execution_count": 1,
   "metadata": {},
   "outputs": [],
   "source": [
    "import tensorflow as tf\n",
    "from tensorflow.keras.regularizers import l2\n",
    "# %run ./layers.ipynb"
   ]
  },
  {
   "cell_type": "code",
   "execution_count": 2,
   "metadata": {},
   "outputs": [],
   "source": [
    "def DeepFM(field_size, feat_size, emb_size=4, linear_reg_l2=0.0, fm_reg_l2=0.0, dnn_reg_l2=0.0, \n",
    "           dnn_dropout_rate=0.0, dnn_hidden_units=[128, 128], use_bn=False, use_fm=True, use_deep=True):\n",
    "    \n",
    "    feat_index = tf.keras.layers.Input(field_size,)\n",
    "    feat_value = tf.keras.layers.Input(field_size,)\n",
    "    W = tf.keras.layers.Embedding(feat_size, 1, embeddings_regularizer=l2(linear_reg_l2))(feat_index)\n",
    "    V = tf.keras.layers.Embedding(feat_size, emb_size, embeddings_regularizer=l2(fm_reg_l2))(feat_index)\n",
    "    \n",
    "    feat_value_ = tf.expand_dims(feat_value, axis=-1)\n",
    "    linear_inputs = tf.multiply(W, feat_value_)\n",
    "    fm_inputs = tf.multiply(V, feat_value_)\n",
    "    dnn_inputs = tf.keras.layers.Flatten()(fm_inputs)\n",
    "    \n",
    "    linear_logit = Linear(use_bias=True)(linear_inputs)\n",
    "    fm_logit = FM()(fm_inputs)\n",
    "    dnn_logit = DNN(dnn_hidden_units, dnn_reg_l2, dnn_dropout_rate, use_bn)(dnn_inputs)\n",
    "    \n",
    "    y_fm = tf.add(linear_logit, fm_logit)\n",
    "    y_dnn = tf.keras.layers.Dense(1, use_bias=False)(dnn_logit)\n",
    "    \n",
    "    if use_deep and use_fm:\n",
    "        final_logit = tf.add(y_fm, y_dnn)\n",
    "    elif use_fm:\n",
    "        final_logit = y_fm\n",
    "    elif use_deep:\n",
    "        final_logit = y_dnn\n",
    "    \n",
    "    output = tf.sigmoid(final_logit)\n",
    "    model = tf.keras.models.Model(inputs=[feat_index, feat_value], outputs=output)\n",
    "    return model"
   ]
  }
 ],
 "metadata": {
  "kernelspec": {
   "display_name": "Python 3",
   "language": "python",
   "name": "python3"
  },
  "language_info": {
   "codemirror_mode": {
    "name": "ipython",
    "version": 3
   },
   "file_extension": ".py",
   "mimetype": "text/x-python",
   "name": "python",
   "nbconvert_exporter": "python",
   "pygments_lexer": "ipython3",
   "version": "3.7.4"
  }
 },
 "nbformat": 4,
 "nbformat_minor": 2
}
