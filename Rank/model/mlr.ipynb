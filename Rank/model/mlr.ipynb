{
 "cells": [
  {
   "cell_type": "code",
   "execution_count": 2,
   "metadata": {},
   "outputs": [],
   "source": [
    "import tensorflow as tf\n",
    "# %run ./layers.ipynb"
   ]
  },
  {
   "cell_type": "code",
   "execution_count": 3,
   "metadata": {},
   "outputs": [],
   "source": [
    "def MLR(sparse_field_size, sparse_feat_size, dense_field_size, region_number):\n",
    "    \n",
    "    sparse_index = tf.keras.layers.Input(sparse_field_size,)\n",
    "    dense_value = tf.keras.layers.Input(dense_field_size,)\n",
    "    \n",
    "    region_score = [get_linear(sparse_feat_size, sparse_index, dense_value) for _ in range(region_number)]\n",
    "    region_score = tf.nn.softmax(tf.concat(region_score, axis=1))\n",
    "    region_val = [tf.sigmoid(get_linear(sparse_feat_size, sparse_index, dense_value)) for _ in range(region_number)]\n",
    "    region_val = tf.concat(region_val, axis=1)\n",
    "    \n",
    "    output = tf.reduce_sum(tf.multiply(region_score, region_val), axis=1, keepdims=True)\n",
    "    model = tf.keras.models.Model(inputs=[sparse_index, dense_value], outputs=output)\n",
    "    return model\n",
    "    \n",
    "def get_linear(sparse_feat_size, sparse_index, dense_value):\n",
    "    return Linear()([tf.keras.layers.Embedding(sparse_feat_size, 1)(sparse_index), dense_value])"
   ]
  }
 ],
 "metadata": {
  "kernelspec": {
   "display_name": "Python 3",
   "language": "python",
   "name": "python3"
  },
  "language_info": {
   "codemirror_mode": {
    "name": "ipython",
    "version": 3
   },
   "file_extension": ".py",
   "mimetype": "text/x-python",
   "name": "python",
   "nbconvert_exporter": "python",
   "pygments_lexer": "ipython3",
   "version": "3.7.4"
  }
 },
 "nbformat": 4,
 "nbformat_minor": 2
}
