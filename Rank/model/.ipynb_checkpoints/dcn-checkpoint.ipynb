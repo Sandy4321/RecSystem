{
 "cells": [
  {
   "cell_type": "code",
   "execution_count": 21,
   "metadata": {},
   "outputs": [],
   "source": [
    "import tensorflow as tf\n",
    "# %run ./layers.ipynb"
   ]
  },
  {
   "cell_type": "code",
   "execution_count": 22,
   "metadata": {},
   "outputs": [],
   "source": [
    "def DCN(sparse_field_size, sparse_feat_size, dense_field_size, \n",
    "            emb_size=4, cross_num=2, dnn_hidden_units=[128, 128], ):\n",
    "    \n",
    "    sparse_index = tf.keras.layers.Input(sparse_field_size,)\n",
    "    dense_value = tf.keras.layers.Input(dense_field_size,)\n",
    "    \n",
    "    sparse_w = tf.keras.layers.Embedding(sparse_feat_size, 1)(sparse_index)\n",
    "    sparse_emb = tf.keras.layers.Embedding(sparse_feat_size, emb_size)(sparse_index)\n",
    "    \n",
    "    dnn_inputs = tf.concat([tf.keras.layers.Flatten()(sparse_emb), dense_value], axis=1)\n",
    "    \n",
    "    cross_output = CrossNet(layer_num=cross_num)(dnn_inputs)\n",
    "    dnn_output = DNN()(dnn_inputs)\n",
    "    stack_output = tf.concat([cross_output, dnn_output], axis=1)\n",
    "    \n",
    "    linear_logit = Linear()([sparse_w, dense_value])\n",
    "    dnn_logit = tf.keras.layers.Dense(1, use_bias=False)(stack_output)\n",
    "    output = tf.sigmoid(tf.add(linear_logit, dnn_logit))\n",
    "    model = tf.keras.models.Model(inputs=[sparse_index, dense_value], outputs=output)\n",
    "    return model"
   ]
  }
 ],
 "metadata": {
  "kernelspec": {
   "display_name": "Python 3",
   "language": "python",
   "name": "python3"
  },
  "language_info": {
   "codemirror_mode": {
    "name": "ipython",
    "version": 3
   },
   "file_extension": ".py",
   "mimetype": "text/x-python",
   "name": "python",
   "nbconvert_exporter": "python",
   "pygments_lexer": "ipython3",
   "version": "3.7.4"
  }
 },
 "nbformat": 4,
 "nbformat_minor": 2
}
