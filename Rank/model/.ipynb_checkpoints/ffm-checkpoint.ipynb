{
 "cells": [
  {
   "cell_type": "code",
   "execution_count": 1,
   "metadata": {},
   "outputs": [],
   "source": [
    "import tensorflow as tf\n",
    "# %run ./layers.ipynb"
   ]
  },
  {
   "cell_type": "code",
   "execution_count": 2,
   "metadata": {},
   "outputs": [],
   "source": [
    "def FFM(field_size, feat_size, emb_size=4, reg_l2=0.0):\n",
    "    \n",
    "    feat_index = tf.keras.layers.Input(field_size,)\n",
    "    feat_value = tf.keras.layers.Input(field_size,)\n",
    "    W = tf.keras.layers.Embedding(feat_size, 1)(feat_index)\n",
    "    \n",
    "    feat_value_ = tf.expand_dims(feat_value, axis=-1)\n",
    "    linear_inputs = tf.multiply(W, feat_value_)   \n",
    "    linear_logit = Linear(use_bias=True)(linear_inputs)\n",
    "    ffm_logit = FFMLayer(field_size, feat_size, emb_size, reg_l2)([feat_index, feat_value_])\n",
    "    \n",
    "    final_logit = tf.add(linear_logit, ffm_logit)\n",
    "    output = tf.sigmoid(final_logit)\n",
    "    model = tf.keras.models.Model(inputs=[feat_index, feat_value], outputs=output)\n",
    "    return model"
   ]
  }
 ],
 "metadata": {
  "kernelspec": {
   "display_name": "Python 3",
   "language": "python",
   "name": "python3"
  },
  "language_info": {
   "codemirror_mode": {
    "name": "ipython",
    "version": 3
   },
   "file_extension": ".py",
   "mimetype": "text/x-python",
   "name": "python",
   "nbconvert_exporter": "python",
   "pygments_lexer": "ipython3",
   "version": "3.7.4"
  }
 },
 "nbformat": 4,
 "nbformat_minor": 2
}
